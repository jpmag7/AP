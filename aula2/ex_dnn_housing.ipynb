{
 "cells": [
  {
   "cell_type": "markdown",
   "metadata": {},
   "source": [
    "### Example of DNNs in regression - Housing dataset"
   ]
  },
  {
   "cell_type": "markdown",
   "metadata": {},
   "source": [
    "Loading data"
   ]
  },
  {
   "cell_type": "code",
   "execution_count": 2,
   "metadata": {},
   "outputs": [
    {
     "name": "stdout",
     "output_type": "stream",
     "text": [
      "(404, 13)\n",
      "(102, 13)\n",
      "50.0 5.0\n"
     ]
    }
   ],
   "source": [
    "from tensorflow.keras.datasets import boston_housing\n",
    "(train_data, train_targets), (test_data, test_targets) = boston_housing.load_data()\n",
    "\n",
    "print(train_data.shape)\n",
    "print(test_data.shape)\n",
    "print(max(train_targets), min(train_targets))"
   ]
  },
  {
   "cell_type": "markdown",
   "metadata": {},
   "source": [
    "Standardizing data"
   ]
  },
  {
   "cell_type": "code",
   "execution_count": 3,
   "metadata": {},
   "outputs": [],
   "source": [
    "mean = train_data.mean(axis=0)\n",
    "train_data -= mean\n",
    "std = train_data.std(axis=0)\n",
    "train_data /= std\n",
    "test_data -= mean\n",
    "test_data /= std"
   ]
  },
  {
   "cell_type": "markdown",
   "metadata": {},
   "source": [
    "Building the model (deine function to enable more flexibility in tests)"
   ]
  },
  {
   "cell_type": "code",
   "execution_count": 4,
   "metadata": {},
   "outputs": [],
   "source": [
    "from tensorflow.keras import models\n",
    "from tensorflow.keras import layers\n",
    "\n",
    "def build_model(hidden = 64):\n",
    "    model = models.Sequential()\n",
    "    model.add(layers.Dense(hidden, activation='relu',\n",
    "                            input_shape=(train_data.shape[1],)))\n",
    "    model.add(layers.Dense(hidden, activation='relu'))\n",
    "    model.add(layers.Dense(1))\n",
    "    model.compile(optimizer='rmsprop', loss='mse', metrics=['mae'])\n",
    "    return model"
   ]
  },
  {
   "cell_type": "code",
   "execution_count": 5,
   "metadata": {},
   "outputs": [
    {
     "name": "stderr",
     "output_type": "stream",
     "text": [
      "2023-02-27 12:00:54.391655: I tensorflow/core/platform/cpu_feature_guard.cc:193] This TensorFlow binary is optimized with oneAPI Deep Neural Network Library (oneDNN) to use the following CPU instructions in performance-critical operations:  AVX2 FMA\n",
      "To enable them in other operations, rebuild TensorFlow with the appropriate compiler flags.\n"
     ]
    },
    {
     "name": "stdout",
     "output_type": "stream",
     "text": [
      "Epoch 1/80\n",
      "26/26 [==============================] - 1s 2ms/step - loss: 534.2674 - mae: 21.2422\n",
      "Epoch 2/80\n",
      "26/26 [==============================] - 0s 2ms/step - loss: 397.1568 - mae: 18.0006\n",
      "Epoch 3/80\n",
      "26/26 [==============================] - 0s 2ms/step - loss: 230.7679 - mae: 13.0286\n",
      "Epoch 4/80\n",
      "26/26 [==============================] - 0s 2ms/step - loss: 114.9293 - mae: 8.5376\n",
      "Epoch 5/80\n",
      "26/26 [==============================] - 0s 2ms/step - loss: 68.2153 - mae: 6.2301\n",
      "Epoch 6/80\n",
      "26/26 [==============================] - 0s 2ms/step - loss: 45.8190 - mae: 4.8712\n",
      "Epoch 7/80\n",
      "26/26 [==============================] - 0s 2ms/step - loss: 33.9764 - mae: 4.1435\n",
      "Epoch 8/80\n",
      "26/26 [==============================] - 0s 2ms/step - loss: 27.2644 - mae: 3.6557\n",
      "Epoch 9/80\n",
      "26/26 [==============================] - 0s 2ms/step - loss: 23.4949 - mae: 3.3623\n",
      "Epoch 10/80\n",
      "26/26 [==============================] - 0s 2ms/step - loss: 20.8070 - mae: 3.1281\n",
      "Epoch 11/80\n",
      "26/26 [==============================] - 0s 2ms/step - loss: 18.8683 - mae: 3.0418\n",
      "Epoch 12/80\n",
      "26/26 [==============================] - 0s 6ms/step - loss: 17.3157 - mae: 2.8820\n",
      "Epoch 13/80\n",
      "26/26 [==============================] - 0s 2ms/step - loss: 16.0782 - mae: 2.7852\n",
      "Epoch 14/80\n",
      "26/26 [==============================] - 0s 2ms/step - loss: 15.0907 - mae: 2.7050\n",
      "Epoch 15/80\n",
      "26/26 [==============================] - 0s 2ms/step - loss: 14.4168 - mae: 2.6173\n",
      "Epoch 16/80\n",
      "26/26 [==============================] - 0s 2ms/step - loss: 13.4039 - mae: 2.5294\n",
      "Epoch 17/80\n",
      "26/26 [==============================] - 0s 2ms/step - loss: 12.7879 - mae: 2.4842\n",
      "Epoch 18/80\n",
      "26/26 [==============================] - 0s 3ms/step - loss: 12.3906 - mae: 2.4754\n",
      "Epoch 19/80\n",
      "26/26 [==============================] - 0s 3ms/step - loss: 11.9868 - mae: 2.4213\n",
      "Epoch 20/80\n",
      "26/26 [==============================] - 0s 3ms/step - loss: 11.6047 - mae: 2.4056\n",
      "Epoch 21/80\n",
      "26/26 [==============================] - 0s 3ms/step - loss: 11.1073 - mae: 2.3565\n",
      "Epoch 22/80\n",
      "26/26 [==============================] - 0s 2ms/step - loss: 10.7539 - mae: 2.3084\n",
      "Epoch 23/80\n",
      "26/26 [==============================] - 0s 2ms/step - loss: 10.5848 - mae: 2.3251\n",
      "Epoch 24/80\n",
      "26/26 [==============================] - 0s 3ms/step - loss: 10.4149 - mae: 2.2667\n",
      "Epoch 25/80\n",
      "26/26 [==============================] - 0s 2ms/step - loss: 10.1947 - mae: 2.2516\n",
      "Epoch 26/80\n",
      "26/26 [==============================] - 0s 3ms/step - loss: 9.9442 - mae: 2.2280\n",
      "Epoch 27/80\n",
      "26/26 [==============================] - 0s 3ms/step - loss: 9.7326 - mae: 2.2337\n",
      "Epoch 28/80\n",
      "26/26 [==============================] - 0s 4ms/step - loss: 9.7661 - mae: 2.2001\n",
      "Epoch 29/80\n",
      "26/26 [==============================] - 0s 3ms/step - loss: 9.6199 - mae: 2.1977\n",
      "Epoch 30/80\n",
      "26/26 [==============================] - 0s 3ms/step - loss: 9.3461 - mae: 2.1289\n",
      "Epoch 31/80\n",
      "26/26 [==============================] - 0s 3ms/step - loss: 9.2353 - mae: 2.1904\n",
      "Epoch 32/80\n",
      "26/26 [==============================] - 0s 3ms/step - loss: 9.1288 - mae: 2.1417\n",
      "Epoch 33/80\n",
      "26/26 [==============================] - 0s 3ms/step - loss: 9.1288 - mae: 2.1311\n",
      "Epoch 34/80\n",
      "26/26 [==============================] - 0s 3ms/step - loss: 8.9612 - mae: 2.1317\n",
      "Epoch 35/80\n",
      "26/26 [==============================] - 0s 3ms/step - loss: 9.0279 - mae: 2.1282\n",
      "Epoch 36/80\n",
      "26/26 [==============================] - 0s 3ms/step - loss: 8.8980 - mae: 2.1319\n",
      "Epoch 37/80\n",
      "26/26 [==============================] - 0s 3ms/step - loss: 8.8198 - mae: 2.1094\n",
      "Epoch 38/80\n",
      "26/26 [==============================] - 0s 4ms/step - loss: 8.5707 - mae: 2.0438\n",
      "Epoch 39/80\n",
      "26/26 [==============================] - 0s 3ms/step - loss: 8.5095 - mae: 2.0636\n",
      "Epoch 40/80\n",
      "26/26 [==============================] - 0s 3ms/step - loss: 8.6613 - mae: 2.0685\n",
      "Epoch 41/80\n",
      "26/26 [==============================] - 0s 3ms/step - loss: 8.4037 - mae: 2.0348\n",
      "Epoch 42/80\n",
      "26/26 [==============================] - 0s 3ms/step - loss: 8.1848 - mae: 2.0515\n",
      "Epoch 43/80\n",
      "26/26 [==============================] - 0s 3ms/step - loss: 8.2455 - mae: 2.0042\n",
      "Epoch 44/80\n",
      "26/26 [==============================] - 0s 3ms/step - loss: 8.0289 - mae: 1.9900\n",
      "Epoch 45/80\n",
      "26/26 [==============================] - 0s 3ms/step - loss: 7.9229 - mae: 2.0281\n",
      "Epoch 46/80\n",
      "26/26 [==============================] - 0s 3ms/step - loss: 8.0028 - mae: 1.9986\n",
      "Epoch 47/80\n",
      "26/26 [==============================] - 0s 3ms/step - loss: 7.9815 - mae: 1.9618\n",
      "Epoch 48/80\n",
      "26/26 [==============================] - 0s 3ms/step - loss: 7.9147 - mae: 1.9840\n",
      "Epoch 49/80\n",
      "26/26 [==============================] - 0s 3ms/step - loss: 7.8176 - mae: 1.9616\n",
      "Epoch 50/80\n",
      "26/26 [==============================] - 0s 3ms/step - loss: 7.6907 - mae: 1.9681\n",
      "Epoch 51/80\n",
      "26/26 [==============================] - 0s 3ms/step - loss: 7.6173 - mae: 1.9609\n",
      "Epoch 52/80\n",
      "26/26 [==============================] - 0s 3ms/step - loss: 7.6257 - mae: 1.9359\n",
      "Epoch 53/80\n",
      "26/26 [==============================] - 0s 3ms/step - loss: 7.5806 - mae: 1.9264\n",
      "Epoch 54/80\n",
      "26/26 [==============================] - 0s 3ms/step - loss: 7.3713 - mae: 1.8966\n",
      "Epoch 55/80\n",
      "26/26 [==============================] - 0s 3ms/step - loss: 7.3795 - mae: 1.9173\n",
      "Epoch 56/80\n",
      "26/26 [==============================] - 0s 2ms/step - loss: 7.2001 - mae: 1.9289\n",
      "Epoch 57/80\n",
      "26/26 [==============================] - 0s 2ms/step - loss: 7.1982 - mae: 1.8788\n",
      "Epoch 58/80\n",
      "26/26 [==============================] - 0s 3ms/step - loss: 7.3370 - mae: 1.8789\n",
      "Epoch 59/80\n",
      "26/26 [==============================] - 0s 2ms/step - loss: 7.1300 - mae: 1.8751\n",
      "Epoch 60/80\n",
      "26/26 [==============================] - 0s 2ms/step - loss: 7.1545 - mae: 1.8571\n",
      "Epoch 61/80\n",
      "26/26 [==============================] - 0s 2ms/step - loss: 7.0675 - mae: 1.8758\n",
      "Epoch 62/80\n",
      "26/26 [==============================] - 0s 2ms/step - loss: 6.9592 - mae: 1.8360\n",
      "Epoch 63/80\n",
      "26/26 [==============================] - 0s 2ms/step - loss: 6.9536 - mae: 1.8360\n",
      "Epoch 64/80\n",
      "26/26 [==============================] - 0s 2ms/step - loss: 6.8378 - mae: 1.8183\n",
      "Epoch 65/80\n",
      "26/26 [==============================] - 0s 3ms/step - loss: 6.8582 - mae: 1.8375\n",
      "Epoch 66/80\n",
      "26/26 [==============================] - 0s 3ms/step - loss: 6.9005 - mae: 1.8460\n",
      "Epoch 67/80\n",
      "26/26 [==============================] - 0s 3ms/step - loss: 6.7293 - mae: 1.8185\n",
      "Epoch 68/80\n",
      "26/26 [==============================] - 0s 2ms/step - loss: 6.8396 - mae: 1.8396\n",
      "Epoch 69/80\n",
      "26/26 [==============================] - 0s 2ms/step - loss: 6.6000 - mae: 1.8227\n",
      "Epoch 70/80\n",
      "26/26 [==============================] - 0s 3ms/step - loss: 6.5424 - mae: 1.7829\n",
      "Epoch 71/80\n",
      "26/26 [==============================] - 0s 2ms/step - loss: 6.5176 - mae: 1.8260\n",
      "Epoch 72/80\n",
      "26/26 [==============================] - 0s 2ms/step - loss: 6.5091 - mae: 1.7927\n",
      "Epoch 73/80\n",
      "26/26 [==============================] - 0s 3ms/step - loss: 6.3915 - mae: 1.7478\n",
      "Epoch 74/80\n",
      "26/26 [==============================] - 0s 3ms/step - loss: 6.3666 - mae: 1.7506\n",
      "Epoch 75/80\n",
      "26/26 [==============================] - 0s 2ms/step - loss: 6.4413 - mae: 1.7734\n",
      "Epoch 76/80\n",
      "26/26 [==============================] - 0s 2ms/step - loss: 6.1817 - mae: 1.7576\n",
      "Epoch 77/80\n",
      "26/26 [==============================] - 0s 2ms/step - loss: 6.2070 - mae: 1.7331\n",
      "Epoch 78/80\n",
      "26/26 [==============================] - 0s 3ms/step - loss: 6.1732 - mae: 1.7326\n",
      "Epoch 79/80\n",
      "26/26 [==============================] - 0s 3ms/step - loss: 6.1674 - mae: 1.7602\n",
      "Epoch 80/80\n",
      "26/26 [==============================] - 0s 3ms/step - loss: 6.0337 - mae: 1.6963\n",
      "4/4 [==============================] - 0s 3ms/step - loss: 18.5854 - mae: 2.7664\n",
      "18.585439682006836 2.766399383544922\n"
     ]
    }
   ],
   "source": [
    "model = build_model()\n",
    "model.fit(train_data, train_targets, epochs=80, batch_size=16, verbose=1)\n",
    "\n",
    "test_mse_score, test_mae_score = model.evaluate(test_data, test_targets)\n",
    "print(test_mse_score, test_mae_score)"
   ]
  },
  {
   "cell_type": "code",
   "execution_count": null,
   "metadata": {},
   "outputs": [
    {
     "name": "stdout",
     "output_type": "stream",
     "text": [
      "processing fold # 0\n",
      "processing fold # 1\n",
      "processing fold # 2\n",
      "processing fold # 3\n",
      "processing fold # 4\n"
     ]
    }
   ],
   "source": [
    "import numpy as np\n",
    "k = 5\n",
    "num_val_samples = len(train_data) // k \n",
    "num_epochs = 100\n",
    "all_scores = []\n",
    "model = build_model()\n",
    "for i in range(k):\n",
    "    print('processing fold #', i)\n",
    "    val_data = train_data[i*num_val_samples: (i+1)*num_val_samples]\n",
    "    val_targets = train_targets[i*num_val_samples: (i+1)*num_val_samples]\n",
    "    partial_train_data = np.concatenate( [train_data[:i*num_val_samples], train_data[(i+1)*num_val_samples:]], axis=0)\n",
    "    partial_train_targets = np.concatenate( [train_targets[:i*num_val_samples], train_targets[(i+1)*num_val_samples:]], axis=0)\n",
    "    model.fit(partial_train_data, partial_train_targets, epochs=num_epochs, batch_size=1, verbose=0)\n",
    "    val_mse, val_mae = model.evaluate(val_data, val_targets, verbose=0)\n",
    "    all_scores.append(val_mae)\n",
    "print(all_scores)\n",
    "print(np.mean(all_scores))"
   ]
  },
  {
   "cell_type": "code",
   "execution_count": null,
   "metadata": {},
   "outputs": [],
   "source": []
  }
 ],
 "metadata": {
  "kernelspec": {
   "display_name": "Python 3",
   "language": "python",
   "name": "python3"
  },
  "language_info": {
   "codemirror_mode": {
    "name": "ipython",
    "version": 3
   },
   "file_extension": ".py",
   "mimetype": "text/x-python",
   "name": "python",
   "nbconvert_exporter": "python",
   "pygments_lexer": "ipython3",
   "version": "3.10.10"
  },
  "vscode": {
   "interpreter": {
    "hash": "696ba46bc9ba7c21d82d00dc08952699c0ee13df55f8102f3a6ffb0593d65918"
   }
  }
 },
 "nbformat": 4,
 "nbformat_minor": 4
}
